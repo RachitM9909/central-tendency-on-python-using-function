{
  "nbformat": 4,
  "nbformat_minor": 0,
  "metadata": {
    "colab": {
      "provenance": []
    },
    "kernelspec": {
      "name": "python3",
      "display_name": "Python 3"
    },
    "language_info": {
      "name": "python"
    }
  },
  "cells": [
    {
      "cell_type": "markdown",
      "source": [
        "#LAB_3_C204\n"
      ],
      "metadata": {
        "id": "zAuHa3tnvA2D"
      }
    },
    {
      "cell_type": "code",
      "execution_count": null,
      "metadata": {
        "id": "A6xoJA0Dus5K"
      },
      "outputs": [],
      "source": []
    },
    {
      "cell_type": "code",
      "source": [
        "\n",
        "def mean(list):\n",
        "  #mean\n",
        "  mean=sum(list)/len(list)\n",
        "  print(mean)\n",
        "  l=len(list)\n",
        "  #variance\n",
        "  var=0\n",
        "  for i in list:\n",
        "    var=var+(mean-i)**2\n",
        "  print(var)\n",
        "  sd=(var)**(1/2)\n",
        "  print(sd)\n",
        "  #median\n",
        "  if l%2==0:\n",
        "    a1=list[l//2]\n",
        "    a2=list[l//2-1]\n",
        "    avg=(a1+a2)/2\n",
        "    print(avg)\n",
        "  elif l%2==1:\n",
        "    median=list[l//2]\n",
        "    #print(median)\n",
        "\n",
        "  #mode\n",
        "  y={}\n",
        "  for a in list:\n",
        "    if not a in y:\n",
        "      y[a]=1\n",
        "    else:\n",
        "      y[a]=y[a]+1\n",
        "  return [g for g,l in y.items() if l==max(y.values())]   \n",
        "\n",
        "{6:3,7:1,12:1}\n",
        "\n",
        "\n",
        "list=[6,6,6,7,10,12,13,4,8,12]\n",
        "mean(list)"
      ],
      "metadata": {
        "colab": {
          "base_uri": "https://localhost:8080/"
        },
        "id": "0Eajr0Cfvrb5",
        "outputId": "231fb757-5cb1-414e-c66a-d3fe049293b0"
      },
      "execution_count": 1,
      "outputs": [
        {
          "output_type": "stream",
          "name": "stdout",
          "text": [
            "8.4\n",
            "88.39999999999999\n",
            "9.402127418834526\n",
            "11.0\n"
          ]
        },
        {
          "output_type": "execute_result",
          "data": {
            "text/plain": [
              "[6]"
            ]
          },
          "metadata": {},
          "execution_count": 1
        }
      ]
    },
    {
      "cell_type": "code",
      "source": [
        "#first 10 multiples of 3\n",
        "def mean(list):\n",
        "  mean=sum(list)/len(list)\n",
        "  print(mean)\n",
        "  l=len(list)\n",
        "  #variance\n",
        "  var=0\n",
        "  for i in list:\n",
        "    var=var+(mean-i)**2\n",
        "  print(var)\n",
        "  sd=(var)**(1/2)\n",
        "  print(sd)\n",
        "  #median\n",
        "  if l%2==0:\n",
        "    a1=list[l//2]\n",
        "    a2=list[l//2-1]\n",
        "    avg=(a1+a2)/2\n",
        "    print(avg)\n",
        "  elif l%2==1:\n",
        "    median=list[l//2]\n",
        "    #print(median)\n",
        "\n",
        "l=[]\n",
        "for i in range(30):\n",
        "  if i%3==0:\n",
        "    l.append(i)\n",
        "  \n",
        "mean(l)"
      ],
      "metadata": {
        "colab": {
          "base_uri": "https://localhost:8080/"
        },
        "id": "stv4t8LD2MM1",
        "outputId": "d769a0a7-ecca-4efd-a59a-d1820738da1e"
      },
      "execution_count": 2,
      "outputs": [
        {
          "output_type": "stream",
          "name": "stdout",
          "text": [
            "13.5\n",
            "742.5\n",
            "27.248853186877426\n",
            "13.5\n"
          ]
        }
      ]
    },
    {
      "cell_type": "code",
      "source": [
        "#4,7,8,9,10,12,13,17\n",
        "def mean(list):\n",
        "  mean=sum(list)/len(list)\n",
        "  print(mean)\n",
        "  l=len(list)\n",
        "  #variance\n",
        "  var=0\n",
        "  for i in list:\n",
        "    var=var+(mean-i)**2\n",
        "  print(var)\n",
        "  sd=(var)**(1/2)\n",
        "  print(sd)\n",
        "  #median\n",
        "  if l%2==0:\n",
        "    a1=list[l//2]\n",
        "    a2=list[l//2-1]\n",
        "    avg=(a1+a2)/2\n",
        "    print(avg)\n",
        "  elif l%2==1:\n",
        "    median=list[l//2]\n",
        "    #print(median)\n",
        "\n",
        "l=[4,7,8,9,10,12,13,17]\n",
        "mean(l)\n"
      ],
      "metadata": {
        "colab": {
          "base_uri": "https://localhost:8080/"
        },
        "id": "HQXYldCI2ve7",
        "outputId": "81547c1b-16a1-4a5e-a538-81095ab34e00"
      },
      "execution_count": 3,
      "outputs": [
        {
          "output_type": "stream",
          "name": "stdout",
          "text": [
            "10.0\n",
            "112.0\n",
            "10.583005244258363\n",
            "9.5\n"
          ]
        }
      ]
    },
    {
      "cell_type": "code",
      "source": [
        "#38,70,48,40,42,55,63,46,54,44\n",
        "def mean(list):\n",
        "  mean=sum(list)/len(list)\n",
        "  print(mean)\n",
        "  l=len(list)\n",
        "  #variance\n",
        "  var=0\n",
        "  for i in list:\n",
        "    var=var+(mean-i)**2\n",
        "  print(var)\n",
        "  sd=(var)**(1/2)\n",
        "  print(sd)\n",
        "  #median\n",
        "  if l%2==0:\n",
        "    a1=list[l//2]\n",
        "    a2=list[l//2-1]\n",
        "    avg=(a1+a2)/2\n",
        "    print(avg)\n",
        "  elif l%2==1:\n",
        "    median=list[l//2]\n",
        "    #print(median)\n",
        "l=[38,70,48,40,42,55,63,46,54,44]\n",
        "mean(l)"
      ],
      "metadata": {
        "colab": {
          "base_uri": "https://localhost:8080/"
        },
        "id": "4oAOls1538qq",
        "outputId": "383fe95c-303e-437f-86a7-d8add81969ab"
      },
      "execution_count": 4,
      "outputs": [
        {
          "output_type": "stream",
          "name": "stdout",
          "text": [
            "50.0\n",
            "974.0\n",
            "31.20897306865447\n",
            "48.5\n"
          ]
        }
      ]
    },
    {
      "cell_type": "code",
      "source": [],
      "metadata": {
        "id": "QTMpNvDc4ErK"
      },
      "execution_count": 4,
      "outputs": []
    }
  ]
}